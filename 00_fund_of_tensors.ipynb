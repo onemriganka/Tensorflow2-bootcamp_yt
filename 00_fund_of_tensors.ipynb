{
  "nbformat": 4,
  "nbformat_minor": 0,
  "metadata": {
    "colab": {
      "provenance": [],
      "collapsed_sections": [
        "fzjcZ4FHCOb5"
      ],
      "gpuClass": "premium"
    },
    "kernelspec": {
      "name": "python3",
      "display_name": "Python 3"
    },
    "accelerator": "GPU",
    "gpuClass": "premium"
  },
  "cells": [
    {
      "cell_type": "markdown",
      "metadata": {
        "id": "ielzxn52r2CB"
      },
      "source": [
        "# A guide to the fundamentals\n",
        "\n",
        "## What is TensorFlow?\n",
        "\n",
        "[TensorFlow](https://www.tensorflow.org/) is an open-source end-to-end machine learning library for preprocessing data, modelling data and serving models (getting them into the hands of others).\n",
        "\n",
        "## Why use TensorFlow?\n",
        "\n",
        "Rather than building machine learning and deep learning models from scratch, it's more likely you'll use a library such as TensorFlow. This is because it contains many of the most common machine learning functions you'll want to use.\n",
        "\n",
        "\n"
      ]
    },
    {
      "cell_type": "markdown",
      "metadata": {
        "id": "VArmDlu06sH0"
      },
      "source": [
        "## Introduction to Tensors\n",
        "\n",
        "If you've ever used NumPy, [tensors](https://www.tensorflow.org/guide/tensor) are kind of like NumPy arrays (we'll see more on this later).\n",
        "\n",
        "For the sake of this notebook and going forward, you can think of a tensor as a multi-dimensional numerical representation (also referred to as n-dimensional, where n can be any number) of something. Where something can be almost anything you can imagine:\n",
        "* It could be numbers themselves (using tensors to represent the price of houses).\n",
        "* It could be an image (using tensors to represent the pixels of an image).\n",
        "* It could be text (using tensors to represent words).\n",
        "* Or it could be some other form of information (or data) you want to represent with numbers.\n",
        "\n",
        "The main difference between tensors and NumPy arrays (also an n-dimensional array of numbers) is that tensors can be used on [GPUs (graphical processing units)](https://blogs.nvidia.com/blog/2009/12/16/whats-the-difference-between-a-cpu-and-a-gpu/) and [TPUs (tensor processing units)](https://en.wikipedia.org/wiki/Tensor_processing_unit).\n",
        "\n",
        "The benefit of being able to run on GPUs and TPUs is faster computation, this means, if we wanted to find patterns in the numerical representations of our data, we can generally find them faster using GPUs and TPUs.\n",
        "\n",
        "Okay, we've been talking enough about tensors, let's see them.\n",
        "\n",
        "The first thing we'll do is import TensorFlow under the common alias `tf`."
      ]
    },
    {
      "cell_type": "code",
      "metadata": {
        "id": "Z7ieIu8t9ijY",
        "colab": {
          "base_uri": "https://localhost:8080/"
        },
        "outputId": "01adfd03-921d-4a59-fe89-3d74610adb21"
      },
      "source": [
        "# Import TensorFlow\n",
        "import tensorflow as tf\n",
        "print(tf.__version__) # find the version number (should be 2.x+)"
      ],
      "execution_count": null,
      "outputs": [
        {
          "output_type": "stream",
          "name": "stdout",
          "text": [
            "2.12.0\n"
          ]
        }
      ]
    },
    {
      "cell_type": "markdown",
      "metadata": {
        "id": "JNtV5t1qz0VP"
      },
      "source": [
        "### Creating Tensors"
      ]
    },
    {
      "cell_type": "code",
      "metadata": {
        "id": "nC7aQgqi0M_Z",
        "colab": {
          "base_uri": "https://localhost:8080/"
        },
        "outputId": "6756e867-e2b3-4d64-e7b9-b612394a8ecc"
      },
      "source": [
        "# Create a scalar (rank 0 tensor)\n",
        "scalar = tf.constant(7)\n",
        "scalar"
      ],
      "execution_count": null,
      "outputs": [
        {
          "output_type": "execute_result",
          "data": {
            "text/plain": [
              "<tf.Tensor: shape=(), dtype=int32, numpy=7>"
            ]
          },
          "metadata": {},
          "execution_count": 3
        }
      ]
    },
    {
      "cell_type": "markdown",
      "metadata": {
        "id": "o6fXE5dXkO_3"
      },
      "source": [
        "A scalar is known as a rank 0 tensor. Because it has no dimensions (it's just a number).\n",
        "\n",
        "> 🔑 **Note:** For now, you don't need to know too much about the different ranks of tensors (but we will see more on this later). The important point is knowing tensors can have an unlimited range of dimensions (the exact amount will depend on what data you're representing)."
      ]
    },
    {
      "cell_type": "code",
      "metadata": {
        "id": "1sgUNKoFkJ21",
        "colab": {
          "base_uri": "https://localhost:8080/"
        },
        "outputId": "b7538913-97b7-4c39-f732-e0dae545ab8d"
      },
      "source": [
        "# Check the number of dimensions of a tensor (ndim stands for number of dimensions)\n",
        "scalar.ndim"
      ],
      "execution_count": null,
      "outputs": [
        {
          "output_type": "execute_result",
          "data": {
            "text/plain": [
              "0"
            ]
          },
          "metadata": {},
          "execution_count": 4
        }
      ]
    },
    {
      "cell_type": "code",
      "metadata": {
        "id": "irtCo2fs0V_o",
        "colab": {
          "base_uri": "https://localhost:8080/"
        },
        "outputId": "ac00aae7-c80f-4450-d824-f6aa9910362b"
      },
      "source": [
        "# Create a vector (more than 0 dimensions)\n",
        "vector = tf.constant([10, 10])\n",
        "vector"
      ],
      "execution_count": null,
      "outputs": [
        {
          "output_type": "execute_result",
          "data": {
            "text/plain": [
              "<tf.Tensor: shape=(2,), dtype=int32, numpy=array([10, 10], dtype=int32)>"
            ]
          },
          "metadata": {},
          "execution_count": 5
        }
      ]
    },
    {
      "cell_type": "code",
      "metadata": {
        "id": "7DDc36pvmOse",
        "colab": {
          "base_uri": "https://localhost:8080/"
        },
        "outputId": "aec326c7-d359-4df9-f64b-62af8fdc2958"
      },
      "source": [
        "# Check the number of dimensions of our vector tensor\n",
        "vector.ndim"
      ],
      "execution_count": null,
      "outputs": [
        {
          "output_type": "execute_result",
          "data": {
            "text/plain": [
              "1"
            ]
          },
          "metadata": {},
          "execution_count": 6
        }
      ]
    },
    {
      "cell_type": "code",
      "metadata": {
        "id": "HXf5A5360V7A",
        "colab": {
          "base_uri": "https://localhost:8080/"
        },
        "outputId": "4ad29d49-9ed6-4b7a-aed5-bb6cab663556"
      },
      "source": [
        "# Create a matrix (more than 1 dimension)\n",
        "matrix = tf.constant([[10, 7],\n",
        "                      [7, 10]])\n",
        "matrix"
      ],
      "execution_count": null,
      "outputs": [
        {
          "output_type": "execute_result",
          "data": {
            "text/plain": [
              "<tf.Tensor: shape=(2, 2), dtype=int32, numpy=\n",
              "array([[10,  7],\n",
              "       [ 7, 10]], dtype=int32)>"
            ]
          },
          "metadata": {},
          "execution_count": 7
        }
      ]
    },
    {
      "cell_type": "code",
      "metadata": {
        "id": "Asmn6YghlT6u",
        "colab": {
          "base_uri": "https://localhost:8080/"
        },
        "outputId": "a720f883-9bed-4f83-833a-1e11c4cac29c"
      },
      "source": [
        "matrix.ndim"
      ],
      "execution_count": null,
      "outputs": [
        {
          "output_type": "execute_result",
          "data": {
            "text/plain": [
              "2"
            ]
          },
          "metadata": {},
          "execution_count": 8
        }
      ]
    },
    {
      "cell_type": "markdown",
      "metadata": {
        "id": "TZMfDFKC0Cl7"
      },
      "source": [
        "### Creating Tensors with `tf.Variable()`\n",
        "\n",
        "You can also (although you likely rarely will, because often, when working with data, tensors are created for you automatically) create tensors using [`tf.Variable()`](https://www.tensorflow.org/api_docs/python/tf/Variable).\n",
        "\n",
        "The difference between `tf.Variable()` and `tf.constant()` is tensors created with `tf.constant()` are immutable (can't be changed, can only be used to create a new tensor), where as, tensors created with `tf.Variable()` are mutable (can be changed)."
      ]
    },
    {
      "cell_type": "code",
      "metadata": {
        "id": "bv1SBbDe4TxN",
        "colab": {
          "base_uri": "https://localhost:8080/"
        },
        "outputId": "0aeb31ea-808d-4dc3-bcd3-8ef01be56012"
      },
      "source": [
        "# Create the same tensor with tf.Variable() and tf.constant()\n",
        "changeable_tensor = tf.Variable([10, 7])\n",
        "unchangeable_tensor = tf.constant([10, 7])\n",
        "changeable_tensor, unchangeable_tensor"
      ],
      "execution_count": null,
      "outputs": [
        {
          "output_type": "execute_result",
          "data": {
            "text/plain": [
              "(<tf.Variable 'Variable:0' shape=(2,) dtype=int32, numpy=array([10,  7], dtype=int32)>,\n",
              " <tf.Tensor: shape=(2,), dtype=int32, numpy=array([10,  7], dtype=int32)>)"
            ]
          },
          "metadata": {},
          "execution_count": 13
        }
      ]
    },
    {
      "cell_type": "markdown",
      "metadata": {
        "id": "slcLTK5D7kc2"
      },
      "source": [
        "You can also turn NumPy arrays in into tensors.\n",
        "\n",
        "Remember, the main difference between tensors and NumPy arrays is that tensors can be run on GPUs.\n",
        "\n",
        "> 🔑 **Note:** A matrix or tensor is typically represented by a capital letter (e.g. `X` or `A`) where as a vector is typically represented by a lowercase letter (e.g. `y` or `b`)."
      ]
    },
    {
      "cell_type": "code",
      "metadata": {
        "id": "C0XP37xi7mn4",
        "colab": {
          "base_uri": "https://localhost:8080/"
        },
        "outputId": "eeab31d5-7017-44a9-8543-c86a3f1be67e"
      },
      "source": [
        "import numpy as np\n",
        "numpy_A = np.arange(1, 25, dtype=np.int32) # create a NumPy array between 1 and 25\n",
        "A = tf.constant(numpy_A,\n",
        "                shape=[2, 4, 3]) # note: the shape total (2*4*3) has to match the number of elements in the array\n",
        "numpy_A, A"
      ],
      "execution_count": null,
      "outputs": [
        {
          "output_type": "execute_result",
          "data": {
            "text/plain": [
              "(array([ 1,  2,  3,  4,  5,  6,  7,  8,  9, 10, 11, 12, 13, 14, 15, 16, 17,\n",
              "        18, 19, 20, 21, 22, 23, 24], dtype=int32),\n",
              " <tf.Tensor: shape=(2, 4, 3), dtype=int32, numpy=\n",
              " array([[[ 1,  2,  3],\n",
              "         [ 4,  5,  6],\n",
              "         [ 7,  8,  9],\n",
              "         [10, 11, 12]],\n",
              " \n",
              "        [[13, 14, 15],\n",
              "         [16, 17, 18],\n",
              "         [19, 20, 21],\n",
              "         [22, 23, 24]]], dtype=int32)>)"
            ]
          },
          "metadata": {},
          "execution_count": 25
        }
      ]
    },
    {
      "cell_type": "markdown",
      "metadata": {
        "id": "-NzdbYDqs1Ex"
      },
      "source": [
        "### Basic operations\n",
        "\n",
        "You can perform many of the basic mathematical operations directly on tensors using Pyhton operators such as, `+`, `-`, `*`."
      ]
    },
    {
      "cell_type": "code",
      "metadata": {
        "id": "tu3zJirLsMVw",
        "colab": {
          "base_uri": "https://localhost:8080/"
        },
        "outputId": "900fe49b-d098-4082-b9df-fa274e6d0739"
      },
      "source": [
        "# You can add values to a tensor using the addition operator\n",
        "tensor = tf.constant([[10, 7], [3, 4]])\n",
        "tensor + 10"
      ],
      "execution_count": null,
      "outputs": [
        {
          "output_type": "execute_result",
          "data": {
            "text/plain": [
              "<tf.Tensor: shape=(2, 2), dtype=int32, numpy=\n",
              "array([[20, 17],\n",
              "       [13, 14]], dtype=int32)>"
            ]
          },
          "metadata": {},
          "execution_count": 34
        }
      ]
    },
    {
      "cell_type": "markdown",
      "metadata": {
        "id": "5N6tUM16xq9d"
      },
      "source": [
        "Other operators also work."
      ]
    },
    {
      "cell_type": "code",
      "metadata": {
        "id": "6TW0_ZC_xoEC",
        "colab": {
          "base_uri": "https://localhost:8080/"
        },
        "outputId": "7042cd55-6025-430e-95bb-a9cce80eafd1"
      },
      "source": [
        "# Multiplication (known as element-wise multiplication)\n",
        "tensor * 10"
      ],
      "execution_count": null,
      "outputs": [
        {
          "output_type": "execute_result",
          "data": {
            "text/plain": [
              "<tf.Tensor: shape=(2, 2), dtype=int32, numpy=\n",
              "array([[100,  70],\n",
              "       [ 30,  40]], dtype=int32)>"
            ]
          },
          "metadata": {},
          "execution_count": 36
        }
      ]
    },
    {
      "cell_type": "code",
      "metadata": {
        "id": "MN6XjwWfxu66",
        "colab": {
          "base_uri": "https://localhost:8080/"
        },
        "outputId": "ab56a5c4-52f1-41e9-c162-8d3edb5ff73f"
      },
      "source": [
        "# Subtraction\n",
        "tensor - 10"
      ],
      "execution_count": null,
      "outputs": [
        {
          "output_type": "execute_result",
          "data": {
            "text/plain": [
              "<tf.Tensor: shape=(2, 2), dtype=int32, numpy=\n",
              "array([[ 0, -3],\n",
              "       [-7, -6]], dtype=int32)>"
            ]
          },
          "metadata": {},
          "execution_count": 37
        }
      ]
    },
    {
      "cell_type": "markdown",
      "metadata": {
        "id": "1kMJe4GlyuZR"
      },
      "source": [
        "You can also use the equivalent TensorFlow function. Using the TensorFlow function (where possible) has the advantage of being sped up later down the line when running as part of a [TensorFlow graph](https://www.tensorflow.org/tensorboard/graphs)."
      ]
    },
    {
      "cell_type": "code",
      "metadata": {
        "id": "R2NDjqYIyyMc",
        "colab": {
          "base_uri": "https://localhost:8080/"
        },
        "outputId": "bb357174-e7df-41f3-e6cc-622efd029a07"
      },
      "source": [
        "# Use the tensorflow function equivalent of the '*' (multiply) operator\n",
        "tf.multiply(tensor, 10)"
      ],
      "execution_count": null,
      "outputs": [
        {
          "output_type": "execute_result",
          "data": {
            "text/plain": [
              "<tf.Tensor: shape=(2, 2), dtype=int32, numpy=\n",
              "array([[100,  70],\n",
              "       [ 30,  40]], dtype=int32)>"
            ]
          },
          "metadata": {},
          "execution_count": 38
        }
      ]
    }
  ]
}